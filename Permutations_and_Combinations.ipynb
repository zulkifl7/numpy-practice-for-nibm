{
 "cells": [
  {
   "cell_type": "code",
   "execution_count": 27,
   "id": "8f18c15a-392f-441d-be48-a94b4b8bb70e",
   "metadata": {},
   "outputs": [
    {
     "name": "stdout",
     "output_type": "stream",
     "text": [
      "720\n",
      "720\n"
     ]
    }
   ],
   "source": [
    "from itertools import permutations\n",
    "from itertools import combinations\n",
    "\n",
    "def permCount(a=[], b=0):\n",
    "    permCount = 0\n",
    "    if b == 0:\n",
    "        x = permutations(a)\n",
    "    else:\n",
    "        x = permutations(a,b)\n",
    "    \n",
    "    for i in x:\n",
    "        permCount += 1\n",
    "\n",
    "    return permCount\n",
    "\n",
    "def combCount(a=[], b=0):\n",
    "    combCount = 0\n",
    "    if b == 0:\n",
    "        x = combinations(a)\n",
    "    else:\n",
    "        x = combinations(a,b)\n",
    "    \n",
    "    for i in x:\n",
    "        combCount += 1\n",
    "\n",
    "    return combCount\n",
    "\n",
    "\n",
    "a = [1,2,3,4,5,6]\n",
    "x = permutations(a)\n",
    "perm = []\n",
    "permCount1 = 0\n",
    "\n",
    "\n",
    "for i in x:\n",
    "    perm.append(i)\n",
    "    permCount1 += 1\n",
    "\n",
    "print(len(perm))\n",
    "print(permCount1)\n",
    "# for i in y:\n",
    "#     print(i)"
   ]
  },
  {
   "cell_type": "code",
   "execution_count": 26,
   "id": "f47aed06",
   "metadata": {},
   "outputs": [
    {
     "name": "stdout",
     "output_type": "stream",
     "text": [
      "60\n",
      "Number of combinations - 10\n"
     ]
    }
   ],
   "source": [
    "print(permCount([1,2,3,4,5],3))\n",
    "\n",
    "print(f\"Number of combinations - {combCount([1,2,3,4,5],3)}\")"
   ]
  },
  {
   "cell_type": "code",
   "execution_count": 30,
   "id": "985a6118",
   "metadata": {},
   "outputs": [
    {
     "name": "stdout",
     "output_type": "stream",
     "text": [
      "6\n"
     ]
    }
   ],
   "source": [
    "print(permCount([1,2,3]))\n",
    "# print(combCount([1,2,3]))"
   ]
  },
  {
   "cell_type": "code",
   "execution_count": null,
   "id": "c0239257",
   "metadata": {},
   "outputs": [],
   "source": []
  }
 ],
 "metadata": {
  "kernelspec": {
   "display_name": "Python 3",
   "language": "python",
   "name": "python3"
  },
  "language_info": {
   "codemirror_mode": {
    "name": "ipython",
    "version": 3
   },
   "file_extension": ".py",
   "mimetype": "text/x-python",
   "name": "python",
   "nbconvert_exporter": "python",
   "pygments_lexer": "ipython3",
   "version": "3.12.1"
  }
 },
 "nbformat": 4,
 "nbformat_minor": 5
}
