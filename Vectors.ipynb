{
 "cells": [
  {
   "cell_type": "markdown",
   "metadata": {},
   "source": [
    "## Vectors"
   ]
  },
  {
   "cell_type": "code",
   "execution_count": 1,
   "metadata": {},
   "outputs": [
    {
     "name": "stdout",
     "output_type": "stream",
     "text": [
      "Vector Created from a list : [10 20 30 40 50]\n"
     ]
    }
   ],
   "source": [
    "import numpy as np\n",
    "\n",
    "lst1 = [10,20,30,40,50]\n",
    "\n",
    "vector1 = np.array(lst1)\n",
    "\n",
    "print(f'Vector Created from a list : {vector1}')"
   ]
  },
  {
   "cell_type": "code",
   "execution_count": 2,
   "metadata": {},
   "outputs": [
    {
     "name": "stdout",
     "output_type": "stream",
     "text": [
      "This is also a Vector: [[1]\n",
      " [2]\n",
      " [3]\n",
      " [4]\n",
      " [5]]\n"
     ]
    }
   ],
   "source": [
    "lst2 = [[1],[2],[3],[4],[5]]\n",
    "\n",
    "vector2 = np.array(lst2)\n",
    "\n",
    "print(f'This is also a Vector: {vector2}')"
   ]
  },
  {
   "cell_type": "markdown",
   "metadata": {},
   "source": [
    "## Adding 2 Vectors"
   ]
  },
  {
   "cell_type": "code",
   "execution_count": 3,
   "metadata": {},
   "outputs": [
    {
     "name": "stdout",
     "output_type": "stream",
     "text": [
      "addition of two vectors = [ 5 27 13 34 12]\n"
     ]
    }
   ],
   "source": [
    "vctr1 = np.array([1,4,6,32,6])\n",
    "vctr2 = np.array([4,23,7,2,6])\n",
    "\n",
    "c = vctr1 + vctr2\n",
    "print(f'addition of two vectors = {c}')"
   ]
  },
  {
   "cell_type": "markdown",
   "metadata": {},
   "source": [
    "## Vector Divison "
   ]
  },
  {
   "cell_type": "code",
   "execution_count": 17,
   "metadata": {},
   "outputs": [
    {
     "name": "stdout",
     "output_type": "stream",
     "text": [
      "Devided vector : [ 0.25        0.17391304  0.85714286 16.          1.        ]\n"
     ]
    }
   ],
   "source": [
    "vctr1 = np.array([1,4,6,32,6])\n",
    "vctr2 = np.array([4,23,7,2,6])\n",
    "\n",
    "vctr_div = vctr1 / vctr2\n",
    "print(f'Devided vector : {vctr_div}')"
   ]
  },
  {
   "cell_type": "markdown",
   "metadata": {},
   "source": [
    "## Magnitude of a vector"
   ]
  },
  {
   "cell_type": "code",
   "execution_count": 22,
   "metadata": {},
   "outputs": [
    {
     "name": "stdout",
     "output_type": "stream",
     "text": [
      "Magnitude of vector in method 1 [4 7 3 4 8 3 9] ==> 15.620499351813308\n",
      "Magnitude of vector in method 2 [4 7 3 4 8 3 9] ==> 15.620499351813308\n",
      "Magnitude of vector in method 3 [4 7 3 4 8 3 9] ==> 15.620499351813308\n"
     ]
    }
   ],
   "source": [
    "# Method 1 : Using norm() in linalg (linear algebra)\n",
    "\n",
    "x = np.array([4,7,3,4,8,3,9])\n",
    "\n",
    "mag_of_x = np.linalg.norm(x)\n",
    "print(f'Magnitude of vector in method 1 {x} ==> {mag_of_x}')\n",
    "\n",
    "# Method 2 : Using the dot product\n",
    "mag_x_2 = np.sqrt(x.dot(x))\n",
    "print(f'Magnitude of vector in method 2 {x} ==> {mag_x_2}')\n",
    "# Method 3 : Using the np.dot product\n",
    "mag_x_3 = np.sqrt(np.dot(x,x))\n",
    "print(f'Magnitude of vector in method 3 {x} ==> {mag_x_3}')\n"
   ]
  },
  {
   "cell_type": "markdown",
   "metadata": {},
   "source": [
    "# Unit Vector"
   ]
  },
  {
   "cell_type": "code",
   "execution_count": 6,
   "metadata": {},
   "outputs": [
    {
     "name": "stdout",
     "output_type": "stream",
     "text": [
      "Unit Vector of vector [1 2 3] is: 0.2672612419124244i + 0.5345224838248488j + 0.8017837257372732k [0.26726124 0.53452248 0.80178373]\n"
     ]
    }
   ],
   "source": [
    "# Method 1 : Using unit_vector() in transformations library\n",
    "\n",
    "import transformations as tr\n",
    "\n",
    "vctrx = np.array([1,2,3])\n",
    "\n",
    "u_vctrx = tr.unit_vector(vctrx)\n",
    "print(f'Unit Vector of vector {vctrx} is: {u_vctrx[0:1][0]}i + {str(u_vctrx[1:2][0])}j + {u_vctrx[2:3][0]}k {u_vctrx}')"
   ]
  },
  {
   "cell_type": "markdown",
   "metadata": {},
   "source": [
    "# Finding Eigen Values"
   ]
  },
  {
   "cell_type": "code",
   "execution_count": 5,
   "metadata": {},
   "outputs": [
    {
     "name": "stdout",
     "output_type": "stream",
     "text": [
      "[2. 3. 1.]\n",
      "[[-3.00000000e+00 -3.00000000e+00 -3.16413562e-15]\n",
      " [ 2.44948974e+00  2.44948974e+00  1.22474487e+00]\n",
      " [-0.00000000e+00 -1.41421356e+00  7.07106781e-01]]\n"
     ]
    }
   ],
   "source": [
    "import numpy as np\n",
    "A = np.array([[1,0,-1],[1,2,1],[2,2,3]])\n",
    "\n",
    "c,d = np.linalg.eig(A)\n",
    "\n",
    "e = np.linalg.inv(d)\n",
    "print(c)\n",
    "print(e)\n"
   ]
  },
  {
   "cell_type": "code",
   "execution_count": null,
   "metadata": {},
   "outputs": [],
   "source": []
  }
 ],
 "metadata": {
  "kernelspec": {
   "display_name": "Python 3",
   "language": "python",
   "name": "python3"
  },
  "language_info": {
   "codemirror_mode": {
    "name": "ipython",
    "version": 3
   },
   "file_extension": ".py",
   "mimetype": "text/x-python",
   "name": "python",
   "nbconvert_exporter": "python",
   "pygments_lexer": "ipython3",
   "version": "3.12.1"
  }
 },
 "nbformat": 4,
 "nbformat_minor": 2
}
