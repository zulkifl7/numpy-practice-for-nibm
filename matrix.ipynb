{
 "cells": [
  {
   "cell_type": "code",
   "execution_count": 1,
   "metadata": {},
   "outputs": [
    {
     "name": "stdout",
     "output_type": "stream",
     "text": [
      "[[1 2 3]\n",
      " [4 5 6]]\n",
      "[[1 2 3]\n",
      " [4 5 6]]\n"
     ]
    }
   ],
   "source": [
    "import numpy as np\n",
    "\n",
    "a  = np.matrix('1,2,3;4,5,6')\n",
    "b = np.array([[1,2,3],[4,5,6]])\n",
    "\n",
    "print(a)\n",
    "print(b)"
   ]
  },
  {
   "cell_type": "code",
   "execution_count": 3,
   "metadata": {},
   "outputs": [
    {
     "name": "stdout",
     "output_type": "stream",
     "text": [
      "[0 1 2 3 4 5]\n"
     ]
    }
   ],
   "source": [
    "c = np.arange(6)\n",
    "print(c)"
   ]
  },
  {
   "cell_type": "code",
   "execution_count": 4,
   "metadata": {},
   "outputs": [
    {
     "name": "stdout",
     "output_type": "stream",
     "text": [
      "[[ 7  3  5  0  3]\n",
      " [ 9  5  2  7  7]\n",
      " [ 0 10  9  7  4]\n",
      " [ 3  4  9  5  7]]\n",
      "\n",
      "[[ 1  2  3  4  5]\n",
      " [ 6  7  8  9 10]\n",
      " [11 12 13 14 15]\n",
      " [16 17 18 19 20]]\n",
      "\n",
      "None\n"
     ]
    }
   ],
   "source": [
    "import random as rd\n",
    "def array_generator(m):\n",
    "    x = []\n",
    "    for i in range(m):\n",
    "        x.append(rd.randint(0,10))\n",
    "    return x\n",
    "\n",
    "def matrix_generator(r,c):\n",
    "    x = []\n",
    "    for i in range(r*c):\n",
    "        x.append(rd.randint(0,10))\n",
    "    \n",
    "\n",
    "w = array_generator(5)\n",
    "x = array_generator(5)\n",
    "y = array_generator(5)\n",
    "z = array_generator(5)\n",
    "\n",
    "d = np.array([w,x,y,z])\n",
    "\n",
    "e = np.array([np.arange(1,6),np.arange(6,11),np.arange(11,16),np.arange(16,21)])\n",
    "\n",
    "f = matrix_generator(2,3)\n",
    "print(d)\n",
    "print()\n",
    "print(e)\n",
    "print()\n",
    "print(f)"
   ]
  },
  {
   "cell_type": "markdown",
   "metadata": {},
   "source": [
    "# Order of the  matrix"
   ]
  },
  {
   "cell_type": "code",
   "execution_count": 5,
   "metadata": {},
   "outputs": [
    {
     "name": "stdout",
     "output_type": "stream",
     "text": [
      "(2, 3)\n",
      "(2, 3)\n"
     ]
    }
   ],
   "source": [
    "print(a.shape)\n",
    "print(b.shape)\n"
   ]
  },
  {
   "cell_type": "markdown",
   "metadata": {},
   "source": [
    "## Matrix addition"
   ]
  },
  {
   "cell_type": "code",
   "execution_count": 6,
   "metadata": {},
   "outputs": [
    {
     "name": "stdout",
     "output_type": "stream",
     "text": [
      "a + b = \n",
      "[[ 2  5]\n",
      " [ 3 75]]\n"
     ]
    }
   ],
   "source": [
    "\n",
    "\n",
    "a = np.matrix('1 1;2 43')\n",
    "b = np.matrix('1 4;1 32')\n",
    "\n",
    "print(f'a + b = \\n{a+b}')"
   ]
  },
  {
   "cell_type": "markdown",
   "metadata": {},
   "source": [
    "## Matrix Scalar multiplications"
   ]
  },
  {
   "cell_type": "code",
   "execution_count": 7,
   "metadata": {},
   "outputs": [
    {
     "name": "stdout",
     "output_type": "stream",
     "text": [
      "[[ 4 20 28]\n",
      " [16 28 92]]\n"
     ]
    }
   ],
   "source": [
    "a = np.array([[1,5,7],[4,7,23]])\n",
    "a4 = a * 4\n",
    "print(a4)"
   ]
  },
  {
   "cell_type": "markdown",
   "metadata": {},
   "source": [
    "# Matrix Mul"
   ]
  },
  {
   "cell_type": "code",
   "execution_count": 8,
   "metadata": {},
   "outputs": [
    {
     "name": "stdout",
     "output_type": "stream",
     "text": [
      "[[38 61]\n",
      " [52 78]]\n",
      "[[38 61]\n",
      " [52 78]]\n"
     ]
    }
   ],
   "source": [
    "mul1 = np.matrix('1 4 6;2 7 3')\n",
    "mul2 = np.matrix('2 5;6 8;2 4')\n",
    "\n",
    "mul3 = np.array([[1,4,6],[2,7,3]])\n",
    "mul4 = np.array([[2,5],[6,8],[2,4]])\n",
    "\n",
    "ans = mul1 * mul2 # for matrix created with matrix function this will work\n",
    "ans2 = mul3.dot(mul4) # for matrix created with arrays .dot() should be used\n",
    "print(ans)\n",
    "print(ans2)"
   ]
  },
  {
   "cell_type": "markdown",
   "metadata": {},
   "source": [
    "## Transpose of a matrix"
   ]
  },
  {
   "cell_type": "code",
   "execution_count": null,
   "metadata": {},
   "outputs": [
    {
     "name": "stdout",
     "output_type": "stream",
     "text": [
      "[[ 1  7 43]\n",
      " [ 9  2  4]]\n",
      "\n",
      "[[ 1  9]\n",
      " [ 7  2]\n",
      " [43  4]]\n"
     ]
    },
    {
     "data": {
      "text/plain": [
       "array([[ 1,  7, 43],\n",
       "       [ 9,  2,  4]])"
      ]
     },
     "execution_count": 15,
     "metadata": {},
     "output_type": "execute_result"
    }
   ],
   "source": [
    "at = np.array([[1,7,43],[9,2,4]])\n",
    "at_transpose = np.matrix.transpose(at)\n",
    "\n",
    "print(at)\n",
    "print()\n",
    "print(at_transpose)"
   ]
  },
  {
   "cell_type": "code",
   "execution_count": 9,
   "metadata": {},
   "outputs": [
    {
     "data": {
      "text/latex": [
       "$\\displaystyle \\left[\\begin{matrix}4 & 9\\\\6 & 15\\end{matrix}\\right]$"
      ],
      "text/plain": [
       "Matrix([\n",
       "[4,  9],\n",
       "[6, 15]])"
      ]
     },
     "execution_count": 9,
     "metadata": {},
     "output_type": "execute_result"
    }
   ],
   "source": [
    "import sympy as sp\n",
    "from sympy import *\n",
    "\n",
    "A =  Matrix([[0,2],[3,6]])\n",
    "B = Matrix([[4,7],[3,9]])\n",
    "\n",
    "A+B\n",
    "    "
   ]
  },
  {
   "cell_type": "code",
   "execution_count": null,
   "metadata": {},
   "outputs": [
    {
     "data": {
      "text/latex": [
       "$\\displaystyle \\left[\\begin{matrix}-4 & -5\\\\0 & -3\\end{matrix}\\right]$"
      ],
      "text/plain": [
       "Matrix([\n",
       "[-4, -5],\n",
       "[ 0, -3]])"
      ]
     },
     "execution_count": 19,
     "metadata": {},
     "output_type": "execute_result"
    }
   ],
   "source": [
    "A-B"
   ]
  },
  {
   "cell_type": "code",
   "execution_count": null,
   "metadata": {},
   "outputs": [
    {
     "data": {
      "text/latex": [
       "$\\displaystyle \\left[\\begin{matrix}6 & 18\\\\30 & 75\\end{matrix}\\right]$"
      ],
      "text/plain": [
       "Matrix([\n",
       "[ 6, 18],\n",
       "[30, 75]])"
      ]
     },
     "execution_count": 20,
     "metadata": {},
     "output_type": "execute_result"
    }
   ],
   "source": [
    "A * B"
   ]
  },
  {
   "cell_type": "code",
   "execution_count": null,
   "metadata": {},
   "outputs": [
    {
     "data": {
      "text/latex": [
       "$\\displaystyle \\left[\\begin{matrix}0 & 3\\\\2 & 6\\end{matrix}\\right]$"
      ],
      "text/plain": [
       "Matrix([\n",
       "[0, 3],\n",
       "[2, 6]])"
      ]
     },
     "execution_count": 22,
     "metadata": {},
     "output_type": "execute_result"
    }
   ],
   "source": [
    "C = transpose(A)\n",
    "C\n"
   ]
  },
  {
   "cell_type": "markdown",
   "metadata": {},
   "source": [
    "## Inverse of a matrix"
   ]
  },
  {
   "cell_type": "code",
   "execution_count": null,
   "metadata": {},
   "outputs": [
    {
     "name": "stdout",
     "output_type": "stream",
     "text": [
      "[[-0.02941176 -0.10294118  0.14705882]\n",
      " [ 0.          0.125       0.        ]\n",
      " [ 0.20588235 -0.02941176 -0.02941176]]\n",
      "-271.9999999999999\n"
     ]
    }
   ],
   "source": [
    "x1 = [1,2,3]\n",
    "x2 = [4.5,6]\n",
    "x3 = [7,8,9]\n",
    "\n",
    "a = np.matrix('1 2 5;0 8 0;7 6 1')\n",
    "\n",
    "x = np.linalg.inv(a)\n",
    "\n",
    "print(x)\n",
    "print(y)"
   ]
  },
  {
   "cell_type": "markdown",
   "metadata": {},
   "source": [
    "## Determination of a matrix"
   ]
  },
  {
   "cell_type": "code",
   "execution_count": null,
   "metadata": {},
   "outputs": [],
   "source": [
    "x1 = [1,2,3]\n",
    "x2 = [4.5,6]\n",
    "x3 = [7,8,9]\n",
    "\n",
    "a = np.matrix('1 2 5;0 8 0;7 6 1')\n",
    "\n",
    "y = np.linalg.det(a)\n",
    "\n",
    "print(x)\n",
    "print(y)"
   ]
  },
  {
   "cell_type": "markdown",
   "metadata": {},
   "source": [
    "## Soving equations with matrix"
   ]
  },
  {
   "cell_type": "code",
   "execution_count": null,
   "metadata": {},
   "outputs": [
    {
     "name": "stdout",
     "output_type": "stream",
     "text": [
      "[[ 2.]\n",
      " [-3.]\n",
      " [-7.]]\n"
     ]
    }
   ],
   "source": [
    "ax = np.matrix('3 -1 1;2 1 0;1 2 -1')\n",
    "bx = np.matrix('2;1;3')\n",
    "\n",
    "c = np.linalg.solve(ax,bx)\n",
    "\n",
    "print(c)"
   ]
  },
  {
   "cell_type": "markdown",
   "metadata": {},
   "source": [
    "## Inverse and Deteminant using numpy"
   ]
  },
  {
   "cell_type": "code",
   "execution_count": null,
   "metadata": {},
   "outputs": [],
   "source": [
    "import numpy as np\n",
    "x1 = [1,2,3]\n",
    "x2 = [4.5,6]\n",
    "x3 = [7,8,9]\n",
    "\n",
    "a = np.matrix('1 2 5;0 8 0;7 6 1')\n",
    "\n",
    "x = np.linalg.inv(a)\n",
    "y = np.linalg.det(a)\n",
    "\n",
    "print(x)\n",
    "print(y)"
   ]
  },
  {
   "cell_type": "code",
   "execution_count": null,
   "metadata": {},
   "outputs": [],
   "source": []
  },
  {
   "cell_type": "code",
   "execution_count": null,
   "metadata": {},
   "outputs": [],
   "source": []
  }
 ],
 "metadata": {
  "kernelspec": {
   "display_name": "Python 3",
   "language": "python",
   "name": "python3"
  },
  "language_info": {
   "codemirror_mode": {
    "name": "ipython",
    "version": 3
   },
   "file_extension": ".py",
   "mimetype": "text/x-python",
   "name": "python",
   "nbconvert_exporter": "python",
   "pygments_lexer": "ipython3",
   "version": "3.12.1"
  }
 },
 "nbformat": 4,
 "nbformat_minor": 2
}
