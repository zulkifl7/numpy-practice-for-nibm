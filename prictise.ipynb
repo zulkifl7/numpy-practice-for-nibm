{
 "cells": [
  {
   "cell_type": "code",
   "execution_count": 4,
   "metadata": {},
   "outputs": [
    {
     "name": "stdout",
     "output_type": "stream",
     "text": [
      "[[3 4]\n",
      " [7 8]]\n",
      "[[ 6  7  8]\n",
      " [10 11 12]\n",
      " [14 15 16]]\n"
     ]
    }
   ],
   "source": [
    "import numpy as np\n",
    "A = np.matrix('1 2 3 4;5 6 7 8;9 10 11 12; 13 14 15 16')\n",
    "B = np.array([[1,2,3,4],[5,6,7,8],[9,10,11,12],[13,14,15,16]])\n",
    "\n",
    "C = A[0:2,2:4]\n",
    "D = B[1:5,1:5]\n",
    "print(C)\n",
    "print(D)"
   ]
  },
  {
   "cell_type": "code",
   "execution_count": 13,
   "metadata": {},
   "outputs": [
    {
     "name": "stdout",
     "output_type": "stream",
     "text": [
      "[[ 4  6 10]\n",
      " [ 6  9 11]]\n",
      "[[ 2  2  4]\n",
      " [-2 -1 -1]]\n",
      "[[ 3  6  9]\n",
      " [12 15 18]]\n",
      "[[19 29]\n",
      " [43 68]]\n"
     ]
    }
   ],
   "source": [
    "\n",
    "E = np.matrix('3 4 7;2 4 5')\n",
    "H = np.matrix('1 2 3;4 5 6')\n",
    "I = np.matrix('2 3;1 4;5 6')\n",
    "\n",
    "print(E+H)\n",
    "print(E-H)\n",
    "print(3 * H)\n",
    "print(H * I)"
   ]
  },
  {
   "cell_type": "code",
   "execution_count": 24,
   "metadata": {},
   "outputs": [
    {
     "name": "stdout",
     "output_type": "stream",
     "text": [
      "44.99999999999999\n",
      "[[ 1.51111111 -0.64444444]\n",
      " [-0.95555556  0.42222222]]\n",
      "[[2 1 5]\n",
      " [3 4 6]]\n"
     ]
    }
   ],
   "source": [
    "print(np.linalg.det(H * I))\n",
    "print(np.linalg.inv(H * I))\n",
    "print(np.transpose(I))\n",
    "\n"
   ]
  },
  {
   "cell_type": "code",
   "execution_count": 26,
   "metadata": {},
   "outputs": [
    {
     "data": {
      "text/plain": [
       "matrix([[ 35.],\n",
       "        [-59.],\n",
       "        [  5.]])"
      ]
     },
     "execution_count": 26,
     "metadata": {},
     "output_type": "execute_result"
    }
   ],
   "source": [
    "SolveA = np.matrix('3 2 3;2 1 -1;4 2 -3')\n",
    "solveB = np.matrix('2;6;7')\n",
    "\n",
    "np.linalg.solve(SolveA,solveB)"
   ]
  },
  {
   "cell_type": "code",
   "execution_count": null,
   "metadata": {},
   "outputs": [],
   "source": []
  }
 ],
 "metadata": {
  "kernelspec": {
   "display_name": "Python 3",
   "language": "python",
   "name": "python3"
  },
  "language_info": {
   "codemirror_mode": {
    "name": "ipython",
    "version": 3
   },
   "file_extension": ".py",
   "mimetype": "text/x-python",
   "name": "python",
   "nbconvert_exporter": "python",
   "pygments_lexer": "ipython3",
   "version": "3.12.1"
  }
 },
 "nbformat": 4,
 "nbformat_minor": 2
}
